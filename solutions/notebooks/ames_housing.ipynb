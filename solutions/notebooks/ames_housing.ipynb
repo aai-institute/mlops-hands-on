{
 "cells": [
  {
   "cell_type": "markdown",
   "id": "207a0bf8-2e8f-4f2d-861a-7c1bf654ca88",
   "metadata": {},
   "source": [
    "# Ames housing price prediction"
   ]
  },
  {
   "cell_type": "markdown",
   "id": "688dddf7-7dc9-4de0-a760-cc239c6502f0",
   "metadata": {},
   "source": [
    "## Initialization"
   ]
  },
  {
   "cell_type": "code",
   "execution_count": null,
   "id": "75aac616-9208-44a6-be3e-da3b16792dbb",
   "metadata": {},
   "outputs": [],
   "source": [
    "import pandas as pd\n",
    "\n",
    "from sklearn.pipeline import Pipeline\n",
    "from sklearn.compose import ColumnTransformer\n",
    "from sklearn.impute import SimpleImputer\n",
    "from sklearn.preprocessing import OneHotEncoder, OrdinalEncoder, StandardScaler\n",
    "from sklearn.ensemble import GradientBoostingRegressor\n",
    "from sklearn.model_selection import train_test_split\n",
    "\n",
    "import mlflow"
   ]
  },
  {
   "cell_type": "markdown",
   "id": "be6b393a-4013-452e-bf59-0c3ca5a281c9",
   "metadata": {},
   "source": [
    "## Configuration"
   ]
  },
  {
   "cell_type": "code",
   "execution_count": null,
   "id": "d75a60c2-3dce-4c19-a866-609f464a44d8",
   "metadata": {},
   "outputs": [],
   "source": [
    "DATA_SET_URL = \"https://raw.githubusercontent.com/janwillemkl/mlops-hands-on/main/data/ames_housing.csv\"\n",
    "\n",
    "FEATURES = {\n",
    "    \"nominal\": [\"ms_zoning\", \"lot_shape\", \"land_contour\"],\n",
    "    \"ordinal\": [\"land_slope\", \"overall_qual\", \"overall_cond\"],\n",
    "    \"numerical\": [\"lot_frontage\", \"lot_area\", \"mas_vnr_area\"],\n",
    "}\n",
    "TARGET = \"sale_price\"\n",
    "\n",
    "RANDOM_STATE = 42\n",
    "\n",
    "MLFLOW_TRACKING_SERVER = \"http://localhost:5000\"\n",
    "MLFLOW_EXPERIMENT = \"ames-housing\""
   ]
  },
  {
   "cell_type": "markdown",
   "id": "c0cad032-ddb3-45b8-a4c5-9146ffe23f1e",
   "metadata": {},
   "source": [
    "## Data set (ingestion & preprocessing)"
   ]
  },
  {
   "cell_type": "code",
   "execution_count": null,
   "id": "330c4950-3482-4124-be08-5e1bab610ce8",
   "metadata": {},
   "outputs": [],
   "source": [
    "raw_data = pd.read_csv(DATA_SET_URL)\n",
    "raw_data.head()"
   ]
  },
  {
   "cell_type": "code",
   "execution_count": null,
   "id": "7343fda9-68e6-4ddc-84da-becf9cd4d806",
   "metadata": {},
   "outputs": [],
   "source": [
    "columns = (\n",
    "    FEATURES[\"nominal\"]\n",
    "    + FEATURES[\"ordinal\"]\n",
    "    + FEATURES[\"numerical\"]\n",
    "    + [TARGET]\n",
    ")\n",
    "\n",
    "features = raw_data[columns]\n",
    "features.head()"
   ]
  },
  {
   "cell_type": "markdown",
   "id": "26c3e0fc-56cf-408d-b889-812e6317816d",
   "metadata": {},
   "source": [
    "## Model training"
   ]
  },
  {
   "cell_type": "code",
   "execution_count": null,
   "id": "bf9ece81-b7d1-44fd-ad0c-ecb843538897",
   "metadata": {},
   "outputs": [],
   "source": [
    "train_data, test_data = train_test_split(features, random_state=RANDOM_STATE)\n",
    "\n",
    "train_input = train_data.drop([TARGET], axis=1)\n",
    "train_output = train_data[TARGET]\n",
    "\n",
    "test_input = test_data.drop([TARGET], axis=1)\n",
    "test_output = test_data[TARGET]"
   ]
  },
  {
   "cell_type": "code",
   "execution_count": null,
   "id": "d63e198d-7774-4fdc-8794-a29058aa73a3",
   "metadata": {},
   "outputs": [],
   "source": [
    "# Ordinal pipeline\n",
    "ordinal_pipeline = Pipeline(\n",
    "    [\n",
    "        (\"imputer\", SimpleImputer(strategy=\"most_frequent\")),\n",
    "        (\"encoder\", OrdinalEncoder()),\n",
    "    ]\n",
    ")\n",
    "\n",
    "# Nominal pipeline\n",
    "nominal_pipeline = Pipeline(\n",
    "    [\n",
    "        (\"imputer\", SimpleImputer(strategy=\"most_frequent\")),\n",
    "        (\"encoder\", OneHotEncoder(handle_unknown=\"ignore\")),\n",
    "    ]\n",
    ")\n",
    "\n",
    "# Numerical pipeline\n",
    "numerical_pipeline = Pipeline(\n",
    "    [\n",
    "        (\"imputer\", SimpleImputer(strategy=\"mean\")),\n",
    "        (\"encoder\", StandardScaler()),\n",
    "    ]\n",
    ")\n",
    "\n",
    "# Preprocessing\n",
    "preprocessing_pipeline = ColumnTransformer(\n",
    "    [\n",
    "        (\"ordinal_preprocessor\", ordinal_pipeline, FEATURES[\"ordinal\"]),\n",
    "        (\"nominal_preprocessor\", nominal_pipeline, FEATURES[\"nominal\"]),\n",
    "        (\"numerical_preprocessor\", numerical_pipeline, FEATURES[\"numerical\"]),\n",
    "    ]\n",
    ")\n",
    "\n",
    "# Estimator\n",
    "pipeline = Pipeline(\n",
    "    [\n",
    "        (\"preprocessor\", preprocessing_pipeline),\n",
    "        (\"estimator\", GradientBoostingRegressor(n_estimators=250, random_state=RANDOM_STATE)),\n",
    "    ]\n",
    ")"
   ]
  },
  {
   "cell_type": "code",
   "execution_count": null,
   "id": "35c76ba7-5eea-413d-8353-4907ce39b552",
   "metadata": {},
   "outputs": [],
   "source": [
    "# MLflow configuration\n",
    "\n",
    "mlflow.set_tracking_uri(MLFLOW_TRACKING_SERVER)\n",
    "mlflow.set_experiment(MLFLOW_EXPERIMENT)\n",
    "\n",
    "mlflow.sklearn.autolog()"
   ]
  },
  {
   "cell_type": "code",
   "execution_count": null,
   "id": "6efbf952-6223-4627-8364-72d4a59b4ba6",
   "metadata": {},
   "outputs": [],
   "source": [
    "with mlflow.start_run():\n",
    "    pipeline.fit(train_input, train_output)\n",
    "    pipeline.score(test_input, test_output)"
   ]
  },
  {
   "cell_type": "markdown",
   "id": "35bdfd85-3227-4a9f-9015-3cc2641c1cc0",
   "metadata": {},
   "source": [
    "## Example prediction"
   ]
  },
  {
   "cell_type": "code",
   "execution_count": null,
   "id": "8d62ab35-c529-4742-b99d-647a451efa12",
   "metadata": {},
   "outputs": [],
   "source": [
    "example = pd.DataFrame([{\n",
    "    \"ms_zoning\": \"RL\", \n",
    "    \"lot_shape\": \"IR1\", \n",
    "    \"land_contour\": \"Lvl\",\n",
    "    \"land_slope\": \"Gtl\",\n",
    "    \"overall_qual\": 6,\n",
    "    \"overall_cond\": 5,\n",
    "    \"lot_frontage\": 141.0,\n",
    "    \"lot_area\": 31770,\n",
    "    \"mas_vnr_area\": 112.0\n",
    "}])\n",
    "\n",
    "pipeline.predict(example)[0]"
   ]
  }
 ],
 "metadata": {
  "kernelspec": {
   "display_name": "Python 3 (ipykernel)",
   "language": "python",
   "name": "python3"
  },
  "language_info": {
   "codemirror_mode": {
    "name": "ipython",
    "version": 3
   },
   "file_extension": ".py",
   "mimetype": "text/x-python",
   "name": "python",
   "nbconvert_exporter": "python",
   "pygments_lexer": "ipython3",
   "version": "3.11.7"
  }
 },
 "nbformat": 4,
 "nbformat_minor": 5
}
